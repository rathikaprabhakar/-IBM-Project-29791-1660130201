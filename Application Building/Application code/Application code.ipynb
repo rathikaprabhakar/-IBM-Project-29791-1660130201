{
  "nbformat": 4,
  "nbformat_minor": 0,
  "metadata": {
    "colab": {
      "provenance": []
    },
    "kernelspec": {
      "name": "python3",
      "display_name": "Python 3"
    },
    "language_info": {
      "name": "python"
    }
  },
  "cells": [
    {
      "cell_type": "code",
      "execution_count": null,
      "metadata": {
        "id": "WhFp-zgIHTJB"
      },
      "outputs": [],
      "source": [
        "import numpy as np\n",
        "import os\n",
        "from PIL import Image\n",
        "from flask import Flask, request, render_template, url_for\n",
        "from werkzeug.utils import secure_filename, redirect\n",
        "#from gevent.pywsgi import WSGIServer\n",
        "from keras.models import load_model\n",
        "from keras.preprocessing import image\n",
        "from flask import send_from_directory\n",
        "\n",
        "UPLOAD_FOLDER = 'F:\\ibm\\IBM-Project-50222-1660900453-main\\Application Building\\data'\n",
        "\n",
        "\n",
        "app = Flask(__name__)\n",
        "app.config['UPLOAD_FOLDER'] = UPLOAD_FOLDER\n",
        "\n",
        "model = load_model(\"./models/mnistCNN.h5\")\n",
        "\n",
        "\n",
        "@app.route('/')\n",
        "def index():\n",
        "    return render_template('index.html')\n",
        "\n",
        "\n",
        "@app.route('/predict', methods=['GET', 'POST'])\n",
        "def upload():\n",
        "    if request.method == \"POST\":\n",
        "        f = request.files[\"image\"]\n",
        "        filepath = secure_filename(f.filename)\n",
        "        f.save(os.path.join(app.config['UPLOAD_FOLDER'], filepath))\n",
        "\n",
        "        upload_img = os.path.join(UPLOAD_FOLDER, filepath)\n",
        "        img = Image.open(upload_img).convert(\"L\")  # convert image to monochrome\n",
        "        img = img.resize((28, 28))  # resizing of input image\n",
        "\n",
        "        im2arr = np.array(img)  # converting to image\n",
        "        im2arr = im2arr.reshape(1, 28, 28, 1)  # reshaping according to our requirement\n",
        "\n",
        "        pred = model.predict(im2arr)\n",
        "\n",
        "        num = np.argmax(pred, axis=1)  # printing our Labels\n",
        "\n",
        "        return render_template('predict.html', num=str(num[0]))\n",
        "\n",
        "\n",
        "if __name__ == '__main__':\n",
        "    app.run(debug=True, threaded=False)"
      ]
    }
  ]
}