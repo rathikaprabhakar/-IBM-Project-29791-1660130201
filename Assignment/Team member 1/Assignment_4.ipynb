{
  "nbformat": 4,
  "nbformat_minor": 0,
  "metadata": {
    "colab": {
      "provenance": []
    },
    "kernelspec": {
      "name": "python3",
      "display_name": "Python 3"
    },
    "language_info": {
      "name": "python"
    }
  },
  "cells": [
    {
      "cell_type": "markdown",
      "source": [
        "Download the Dataset"
      ],
      "metadata": {
        "id": "th7iqyxewG7M"
      }
    },
    {
      "cell_type": "markdown",
      "source": [
        "dataset download and uploaded to drive https://www.kaggle.com/datasets/uciml/sms-spam-collection-dataset "
      ],
      "metadata": {
        "id": "6eCnCowDQ70U"
      }
    },
    {
      "cell_type": "markdown",
      "source": [
        "Import required library"
      ],
      "metadata": {
        "id": "yX-mUJ6swiUb"
      }
    },
    {
      "cell_type": "code",
      "source": [
        "import pandas as pd\n",
        "import numpy as np\n",
        "import matplotlib.pyplot as plt\n",
        "import seaborn as sns\n",
        "from sklearn.model_selection import train_test_split\n",
        "from sklearn.preprocessing import LabelEncoder\n",
        "from keras.models import Model\n",
        "from keras.layers import LSTM, Activation, Dense, Dropout, Input, Embedding\n",
        "from keras.optimizers import RMSprop\n",
        "from keras.preprocessing.text import Tokenizer\n",
        "from keras.preprocessing import sequence\n",
        "from keras.utils import pad_sequences\n",
        "from keras.utils import to_categorical\n",
        "from keras.callbacks import EarlyStopping"
      ],
      "metadata": {
        "id": "2bptSvYCxlR6"
      },
      "execution_count": null,
      "outputs": []
    },
    {
      "cell_type": "markdown",
      "source": [
        "Read dataset and do- pre-processing \n"
      ],
      "metadata": {
        "id": "OzL_6SG-0f3W"
      }
    },
    {
      "cell_type": "markdown",
      "source": [
        "Read dataset"
      ],
      "metadata": {
        "id": "OYT7yYsw1Cd9"
      }
    },
    {
      "cell_type": "code",
      "source": [
        "df = pd.read_csv('/content/drive/MyDrive/spam.csv',delimiter=',',encoding='latin-1')\n",
        "df.head()"
      ],
      "metadata": {
        "id": "wsFMeKG73oW6"
      },
      "execution_count": null,
      "outputs": []
    },
    {
      "cell_type": "markdown",
      "source": [
        "Preprocessing the dataset"
      ],
      "metadata": {
        "id": "LLaDfmG24WVc"
      }
    },
    {
      "cell_type": "code",
      "source": [
        "df.drop(['Unnamed: 2', 'Unnamed: 3', 'Unnamed: 4'],axis=1,inplace=True)\n",
        "df.info()"
      ],
      "metadata": {
        "id": "b5zEvoM748S1"
      },
      "execution_count": null,
      "outputs": []
    },
    {
      "cell_type": "markdown",
      "source": [
        "<class 'pandas.core.frame.DataFrame'>\n",
        "RangeIndex: 5572 entries, 0 to 5571\n",
        "Data columns (total 2 columns):\n",
        " #   Column  Non-Null Count  Dtype \n",
        "---  ------  --------------  ----- \n",
        " 0   v1      5572 non-null   object\n",
        " 1   v2      5572 non-null   object\n",
        "dtypes: object(2)\n",
        "memory usage: 87.2+ KB"
      ],
      "metadata": {
        "id": "g67QIRfX-wYK"
      }
    },
    {
      "cell_type": "markdown",
      "source": [
        "X = df.v2\n",
        "Y = df.v1\n",
        "le = LabelEncoder()\n",
        "Y = le.fit_transform(Y)\n",
        "Y = Y.reshape(-1,1)"
      ],
      "metadata": {
        "id": "hHJpambJ5fYA"
      }
    },
    {
      "cell_type": "code",
      "source": [
        "X_train,X_test,Y_train,Y_test = train_test_split(X,Y,test_size=0.15)"
      ],
      "metadata": {
        "id": "H19pUpAA6Jmh"
      },
      "execution_count": null,
      "outputs": []
    },
    {
      "cell_type": "code",
      "source": [
        "max_words = 1000\n",
        "max_len = 150\n",
        "tok = Tokenizer(num_words=max_words)\n",
        "tok.fit_on_texts(X_train)\n",
        "sequences = tok.texts_to_sequences(X_train)\n",
        "sequences_matrix = pad_sequences(sequences,maxlen=max_len)"
      ],
      "metadata": {
        "id": "IbaFSdeo6Tfn"
      },
      "execution_count": null,
      "outputs": []
    },
    {
      "cell_type": "markdown",
      "source": [
        "Create Model and Add Layers (LSTM, Dense-(Hidden Layers), Output)"
      ],
      "metadata": {
        "id": "zcmZsW3H6buD"
      }
    },
    {
      "cell_type": "code",
      "source": [
        "inputs = Input(name='inputs',shape=[max_len])\n",
        "layer = Embedding(max_words,50,input_length=max_len)(inputs)\n",
        "layer = LSTM(64)(layer)\n",
        "layer = Dense(256,name='FC1')(layer)\n",
        "layer = Activation('relu')(layer)\n",
        "layer = Dropout(0.5)(layer)\n",
        "layer = Dense(1,name='out_layer')(layer)\n",
        "layer = Activation('sigmoid')(layer)\n",
        "model = Model(inputs=inputs,outputs=layer)\n",
        "\n",
        "model.summary()"
      ],
      "metadata": {
        "id": "5Q2nn6gj6mF1"
      },
      "execution_count": null,
      "outputs": []
    },
    {
      "cell_type": "markdown",
      "source": [
        "Model: \"model_1\"\n",
        "_________________________________________________________________\n",
        " Layer (type)                Output Shape              Param #   \n",
        "=================================================================\n",
        " inputs (InputLayer)         [(None, 150)]             0         \n",
        "                                                                 \n",
        " embedding_1 (Embedding)     (None, 150, 50)           50000     \n",
        "                                                                 \n",
        " lstm_1 (LSTM)               (None, 64)                29440     \n",
        "                                                                 \n",
        " FC1 (Dense)                 (None, 256)               16640     \n",
        "                                                                 \n",
        " activation_2 (Activation)   (None, 256)               0         \n",
        "                                                                 \n",
        " dropout_1 (Dropout)         (None, 256)               0         \n",
        "                                                                 \n",
        " out_layer (Dense)           (None, 1)                 257       \n",
        "                                                                 \n",
        " activation_3 (Activation)   (None, 1)                 0         \n",
        "                                                                 \n",
        "=================================================================\n",
        "Total params: 96,337\n",
        "Trainable params: 96,337\n",
        "Non-trainable params: 0"
      ],
      "metadata": {
        "id": "H-6USEXI651T"
      }
    },
    {
      "cell_type": "markdown",
      "source": [
        "Compile the Model"
      ],
      "metadata": {
        "id": "mLPNTq6r7Geg"
      }
    },
    {
      "cell_type": "code",
      "source": [
        "model.compile(loss='binary_crossentropy',optimizer=RMSprop(),metrics=['accuracy'])"
      ],
      "metadata": {
        "id": "oAcrrTNH7PlL"
      },
      "execution_count": null,
      "outputs": []
    },
    {
      "cell_type": "markdown",
      "source": [
        "Train and Fit the Model"
      ],
      "metadata": {
        "id": "da8FqKZE7eSv"
      }
    },
    {
      "cell_type": "code",
      "source": [
        "model.fit(sequences_matrix,Y_train,batch_size=128,epochs=10,\n",
        "          validation_split=0.2)"
      ],
      "metadata": {
        "id": "cIZcGUrB7qqX"
      },
      "execution_count": null,
      "outputs": []
    },
    {
      "cell_type": "markdown",
      "source": [
        "Epoch 1/10\n",
        "30/30 [==============================] - 10s 264ms/step - loss: 0.3182 - accuracy: 0.8788 - val_loss: 0.1571 - val_accuracy: 0.9715\n",
        "Epoch 2/10\n",
        "30/30 [==============================] - 7s 247ms/step - loss: 0.0805 - accuracy: 0.9786 - val_loss: 0.0742 - val_accuracy: 0.9778\n",
        "Epoch 3/10\n",
        "30/30 [==============================] - 7s 237ms/step - loss: 0.0403 - accuracy: 0.9881 - val_loss: 0.0670 - val_accuracy: 0.9821\n",
        "Epoch 4/10\n",
        "30/30 [==============================] - 7s 245ms/step - loss: 0.0272 - accuracy: 0.9929 - val_loss: 0.0806 - val_accuracy: 0.9778\n",
        "Epoch 5/10\n",
        "30/30 [==============================] - 7s 242ms/step - loss: 0.0220 - accuracy: 0.9937 - val_loss: 0.0820 - val_accuracy: 0.9800\n",
        "Epoch 6/10\n",
        "30/30 [==============================] - 7s 240ms/step - loss: 0.0178 - accuracy: 0.9955 - val_loss: 0.0787 - val_accuracy: 0.9789\n",
        "Epoch 7/10\n",
        "30/30 [==============================] - 7s 243ms/step - loss: 0.0150 - accuracy: 0.9958 - val_loss: 0.0969 - val_accuracy: 0.9800\n",
        "Epoch 8/10\n",
        "30/30 [==============================] - 7s 241ms/step - loss: 0.0162 - accuracy: 0.9958 - val_loss: 0.0901 - val_accuracy: 0.9768\n",
        "Epoch 9/10\n",
        "30/30 [==============================] - 7s 246ms/step - loss: 0.0099 - accuracy: 0.9968 - val_loss: 0.1284 - val_accuracy: 0.9789\n",
        "Epoch 10/10\n",
        "30/30 [==============================] - 7s 247ms/step - loss: 0.0355 - accuracy: 0.9905 - val_loss: 0.1264 - val_accuracy: 0.9726\n",
        "<keras.callbacks.History at 0x7fe4e3d6a4d0>"
      ],
      "metadata": {
        "id": "cf148HoX8DRs"
      }
    },
    {
      "cell_type": "markdown",
      "source": [
        "Save The Model"
      ],
      "metadata": {
        "id": "e6x1Sntm8M3G"
      }
    },
    {
      "cell_type": "code",
      "source": [
        "model.save('sms_classifier.h5')"
      ],
      "metadata": {
        "id": "0JoEgeTP8SkI"
      },
      "execution_count": null,
      "outputs": []
    },
    {
      "cell_type": "markdown",
      "source": [
        "Preprocessing the Test Dataset"
      ],
      "metadata": {
        "id": "RANqkHY28dan"
      }
    },
    {
      "cell_type": "code",
      "source": [
        "test_sequences = tok.texts_to_sequences(X_test)\n",
        "test_sequences_matrix = pad_sequences(test_sequences,maxlen=max_len)"
      ],
      "metadata": {
        "id": "mquk3c5p8fKw"
      },
      "execution_count": null,
      "outputs": []
    },
    {
      "cell_type": "markdown",
      "source": [
        "Testing the Model"
      ],
      "metadata": {
        "id": "lsQD5HFa8pB6"
      }
    },
    {
      "cell_type": "code",
      "source": [
        "accr = model.evaluate(test_sequences_matrix,Y_test)"
      ],
      "metadata": {
        "id": "cjfwRDq19B9W"
      },
      "execution_count": null,
      "outputs": []
    },
    {
      "cell_type": "markdown",
      "source": [
        "27/27 [==============================] - 1s 20ms/step - loss: 0.0886 - accuracy: 0.9821"
      ],
      "metadata": {
        "id": "Wrxeh5eV9Q8K"
      }
    },
    {
      "cell_type": "code",
      "source": [
        "print('Test set\\n  Loss: {:0.3f}\\n  Accuracy: {:0.3f}'.format(accr[0],accr[1]))"
      ],
      "metadata": {
        "id": "l7EhtWcM9YkS"
      },
      "execution_count": null,
      "outputs": []
    },
    {
      "cell_type": "markdown",
      "source": [
        "Test set\n",
        "  Loss: 0.089\n",
        "  Accuracy: 0.982"
      ],
      "metadata": {
        "id": "KdMCAI4x9eJM"
      }
    }
  ]
}