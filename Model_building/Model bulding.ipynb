{
  "nbformat": 4,
  "nbformat_minor": 0,
  "metadata": {
    "colab": {
      "provenance": []
    },
    "kernelspec": {
      "name": "python3",
      "display_name": "Python 3"
    },
    "language_info": {
      "name": "python"
    }
  },
  "cells": [
    {
      "cell_type": "code",
      "execution_count": null,
      "metadata": {
        "id": "BsbyVev19wyK"
      },
      "outputs": [],
      "source": [
        "import matplotlib.pyplot as plt\n",
        "from keras.utils import np_utils\n",
        "from tensorflow.keras.datasets import mnist"
      ]
    },
    {
      "cell_type": "code",
      "source": [
        "(X_train, Y_train), (X_test, Y_test) = mnist.load_data()\n",
        "print(X_train.shape)\n",
        "print(X_test.shape)"
      ],
      "metadata": {
        "id": "bC_Fz9zb91oO"
      },
      "execution_count": null,
      "outputs": []
    },
    {
      "cell_type": "markdown",
      "source": [
        "Downloading data from https://storage.googleapis.com/tensorflow/tf-keras-datasets/mnist.npz\n",
        "11490434/11490434 [==============================] - 0s 0us/step\n",
        "(60000, 28, 28)\n",
        "(10000, 28, 28)"
      ],
      "metadata": {
        "id": "klafHSKo96sI"
      }
    },
    {
      "cell_type": "code",
      "source": [
        "X_train[0]"
      ],
      "metadata": {
        "id": "TiDPfjzs9-gY"
      },
      "execution_count": null,
      "outputs": []
    },
    {
      "cell_type": "markdown",
      "source": [
        "array([[  0,   0,   0,   0,   0,   0,   0,   0,   0,   0,   0,   0,   0,\n",
        "          0,   0,   0,   0,   0,   0,   0,   0,   0,   0,   0,   0,   0,\n",
        "          0,   0],\n",
        "       [  0,   0,   0,   0,   0,   0,   0,   0,   0,   0,   0,   0,   0,\n",
        "          0,   0,   0,   0,   0,   0,   0,   0,   0,   0,   0,   0,   0,\n",
        "          0,   0],\n",
        "       [  0,   0,   0,   0,   0,   0,   0,   0,   0,   0,   0,   0,   0,\n",
        "          0,   0,   0,   0,   0,   0,   0,   0,   0,   0,   0,   0,   0,\n",
        "          0,   0],\n",
        "       [  0,   0,   0,   0,   0,   0,   0,   0,   0,   0,   0,   0,   0,\n",
        "          0,   0,   0,   0,   0,   0,   0,   0,   0,   0,   0,   0,   0,\n",
        "          0,   0],\n",
        "       [  0,   0,   0,   0,   0,   0,   0,   0,   0,   0,   0,   0,   0,\n",
        "          0,   0,   0,   0,   0,   0,   0,   0,   0,   0,   0,   0,   0,\n",
        "          0,   0],\n",
        "       [  0,   0,   0,   0,   0,   0,   0,   0,   0,   0,   0,   0,   3,\n",
        "         18,  18,  18, 126, 136, 175,  26, 166, 255, 247, 127,   0,   0,\n",
        "          0,   0],\n",
        "       [  0,   0,   0,   0,   0,   0,   0,   0,  30,  36,  94, 154, 170,\n",
        "        253, 253, 253, 253, 253, 225, 172, 253, 242, 195,  64,   0,   0,\n",
        "          0,   0],\n",
        "       [  0,   0,   0,   0,   0,   0,   0,  49, 238, 253, 253, 253, 253,\n",
        "        253, 253, 253, 253, 251,  93,  82,  82,  56,  39,   0,   0,   0,\n",
        "          0,   0],\n",
        "       [  0,   0,   0,   0,   0,   0,   0,  18, 219, 253, 253, 253, 253,\n",
        "        253, 198, 182, 247, 241,   0,   0,   0,   0,   0,   0,   0,   0,\n",
        "          0,   0],\n",
        "       [  0,   0,   0,   0,   0,   0,   0,   0,  80, 156, 107, 253, 253,\n",
        "        205,  11,   0,  43, 154,   0,   0,   0,   0,   0,   0,   0,   0,\n",
        "          0,   0],\n",
        "       [  0,   0,   0,   0,   0,   0,   0,   0,   0,  14,   1, 154, 253,\n",
        "         90,   0,   0,   0,   0,   0,   0,   0,   0,   0,   0,   0,   0,\n",
        "          0,   0],\n",
        "       [  0,   0,   0,   0,   0,   0,   0,   0,   0,   0,   0, 139, 253,\n",
        "        190,   2,   0,   0,   0,   0,   0,   0,   0,   0,   0,   0,   0,\n",
        "          0,   0],\n",
        "       [  0,   0,   0,   0,   0,   0,   0,   0,   0,   0,   0,  11, 190,\n",
        "        253,  70,   0,   0,   0,   0,   0,   0,   0,   0,   0,   0,   0,\n",
        "          0,   0],\n",
        "       [  0,   0,   0,   0,   0,   0,   0,   0,   0,   0,   0,   0,  35,\n",
        "        241, 225, 160, 108,   1,   0,   0,   0,   0,   0,   0,   0,   0,\n",
        "          0,   0],\n",
        "       [  0,   0,   0,  "
      ],
      "metadata": {
        "id": "Zos3RhCA-U2u"
      }
    },
    {
      "cell_type": "code",
      "source": [
        "print(Y_train[0])\n",
        "plt.imshow(X_train[0])"
      ],
      "metadata": {
        "id": "DO3PzM6i-fGi"
      },
      "execution_count": null,
      "outputs": []
    },
    {
      "cell_type": "markdown",
      "source": [
        "5"
      ],
      "metadata": {
        "id": "i20gLulJ-iku"
      }
    },
    {
      "cell_type": "markdown",
      "source": [
        "![image.png](data:image/png;base64,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)"
      ],
      "metadata": {
        "id": "dA9sv1K6-mVI"
      }
    },
    {
      "cell_type": "code",
      "source": [
        "X_train[1]"
      ],
      "metadata": {
        "id": "K0Ewx6WZ-s55"
      },
      "execution_count": null,
      "outputs": []
    },
    {
      "cell_type": "markdown",
      "source": [
        "array([[  0,   0,   0,   0,   0,   0,   0,   0,   0,   0,   0,   0,   0,\n",
        "          0,   0,   0,   0,   0,   0,   0,   0,   0,   0,   0,   0,   0,\n",
        "          0,   0],\n",
        "       [  0,   0,   0,   0,   0,   0,   0,   0,   0,   0,   0,   0,   0,\n",
        "          0,   0,   0,   0,   0,   0,   0,   0,   0,   0,   0,   0,   0,\n",
        "          0,   0],\n",
        "       [  0,   0,   0,   0,   0,   0,   0,   0,   0,   0,   0,   0,   0,\n",
        "          0,   0,   0,   0,   0,   0,   0,   0,   0,   0,   0,   0,   0,\n",
        "          0,   0],\n",
        "       [  0,   0,   0,   0,   0,   0,   0,   0,   0,   0,   0,   0,   0,\n",
        "          0,   0,   0,   0,   0,   0,   0,   0,   0,   0,   0,   0,   0,\n",
        "          0,   0],\n",
        "       [  0,   0,   0,   0,   0,   0,   0,   0,   0,   0,   0,   0,   0,\n",
        "          0,   0,  51, 159, 253, 159,  50,   0,   0,   0,   0,   0,   0,\n",
        "          0,   0],\n",
        "       [  0,   0,   0,   0,   0,   0,   0,   0,   0,   0,   0,   0,   0,\n",
        "          0,  48, 238, 252, 252, 252, 237,   0,   0,   0,   0,   0,   0,\n",
        "          0,   0],\n",
        "       [  0,   0,   0,   0,   0,   0,   0,   0,   0,   0,   0,   0,   0,\n",
        "         54, 227, 253, 252, 239, 233, 252,  57,   6,   0,   0,   0,   0,\n",
        "          0,   0],\n",
        "       [  0,   0,   0,   0,   0,   0,   0,   0,   0,   0,   0,  10,  60,\n",
        "        224, 252, 253, 252, 202,  84, 252, 253, 122,   0,   0,   0,   0,\n",
        "          0,   0],\n",
        "       [  0,   0,   0,   0,   0,   0,   0,   0,   0,   0,   0, 163, 252,\n",
        "        252, 252, 253, 252, 252,  96, 189, 253, 167,   0,   0,   0,   0,\n",
        "          0,   0],\n",
        "       [  0,   0,   0,   0,   0,   0,   0,   0,   0,   0,  51, 238, 253,\n",
        "        253, 190, 114, 253, 228,  47,  79, 255, 168,   0,   0,   0,   0,\n",
        "          0,   0],\n",
        "       [  0,   0,   0,   0,   0,   0,   0,   0,   0,  48, 238, 252, 252,\n",
        "        179,  12,  75, 121,  21,   0,   0, 253, 243,  50,   0,   0,   0,\n",
        "          0,   0],\n",
        "       [  0,   0,   0,   0,   0,   0,   0,   0,  38, 165, 253, 233, 208,\n",
        "         84,   0,   0,   0,   0,   0,   0, 253, 252, 165,   0,   0,   0,\n",
        "          0,   0],\n",
        "       [  0,   0,   0,   0,   0,   0,   0,   7, 178, 252, 240,  71,  19,\n",
        "         28,   0,   0,   0,   0,   0,   0, 253, 252, 195,   0,   0,   0,\n",
        "          0,   0],\n",
        "       [  0,   0,   0,   0,   0,   0,   0,  57, 252, 252,  63,   0,   0,\n",
        "          0,   0,   0,   0,   0,   0,   0, 253, 252, 195,   0,   0,   0,\n",
        "          0,   0],\n",
        "       [  0,   0,   0,   0,   0,   0,   0, 198, 253, 190,   0,   0,   0,\n",
        "          0,   0,   0,   0,   0,   0,   0, 255, 253, 196,   0,   0,   0,\n",
        "          0,   0],\n",
        "       [  0,   0,   0,   0,   0,   0,  76, 246, 252, 112,   0,   0,   0,\n",
        "          0,   0,   0,   0,   0,   0,   0, 253, 252, 148,   0,   0,   0,\n",
        "          0,   0],\n",
        "       [  0,   0,   0,   0,   0,   0,  85, 252, 230,  25,   0,   0,   0,\n",
        "          0,   0,   0,   0,   0,   7, 135, 253, 186,  12,   0,   0,   0,\n",
        "          0,   0],\n",
        "       [  0,   0,   0,   0,   0,   0,  85, 252, 223,   0,   0,   0,   0,\n",
        "          0,   0,   0,   0,   7, 131, 252, 225,  71,   0,   0,   0,   0,\n",
        "          0,   0],\n",
        "       [  0,   0,   0,   0,   0,   0,  85, 252, 145,   0,   0,   0,   0,\n",
        "          0,   0,   0,  48, 165, 252, 173,   0,   0,   0,   0,   0,   0,\n",
        "          0,   0],\n",
        "       [  0,   0,   0,   0,   0,   0,  86, 253, 225,   0,   0,   0,   0,\n",
        "          0,   0, 114, 238, 253, 162,   0,   0,   0,   0,   0,   0,   0,\n",
        "          0,   0],\n",
        "       [  0,   0,   0,   0,  "
      ],
      "metadata": {
        "id": "jgVblXhs-xZ8"
      }
    },
    {
      "cell_type": "code",
      "source": [
        "print(Y_train[1])\n",
        "plt.imshow(X_train[1])"
      ],
      "metadata": {
        "id": "8VeaQItI-0wv"
      },
      "execution_count": null,
      "outputs": []
    },
    {
      "cell_type": "markdown",
      "source": [
        "0"
      ],
      "metadata": {
        "id": "tLw2QlRh-40D"
      }
    },
    {
      "cell_type": "markdown",
      "source": [
        "![image.png](data:image/png;base64,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)"
      ],
      "metadata": {
        "id": "6YkWtlg6-8M-"
      }
    },
    {
      "cell_type": "code",
      "source": [
        "X_train = X_train.reshape(60000,28,28,1).astype('float32')\n",
        "X_test = X_test.reshape(10000,28,28,1).astype('float32')\n",
        "X_train[0]"
      ],
      "metadata": {
        "id": "nnDfUt4c_Egt"
      },
      "execution_count": null,
      "outputs": []
    },
    {
      "cell_type": "markdown",
      "source": [
        "array([[[  0.],\n",
        "        [  0.],\n",
        "        [  0.],\n",
        "        [  0.],\n",
        "        [  0.],\n",
        "        [  0.],\n",
        "        [  0.],\n",
        "        [  0.],\n",
        "        [  0.],\n",
        "        [  0.],\n",
        "        [  0.],\n",
        "        [  0.],\n",
        "        [  0.],\n",
        "        [  0.],\n",
        "        [  0.],\n",
        "        [  0.],\n",
        "        [  0.],\n",
        "        [  0.],\n",
        "        [  0.],\n",
        "        [  0.],\n",
        "        [  0.],\n",
        "        [  0.],\n",
        "        [  0.],\n",
        "        [  0.],\n",
        "        [  0.],\n",
        "        [  0.],\n",
        "        [  0.],\n",
        "        [  0.]],\n",
        "\n",
        "       [[  0.],\n",
        "        [  0.],\n",
        "        [  0.],\n",
        "        [  0.],\n",
        "        [  0.],\n",
        "        [  0.],\n",
        "        [  0.],\n",
        "        [  0.],\n",
        "        [  0.],\n",
        "        [  0.],\n",
        "        [  0.],\n",
        "        [  0.],\n",
        "        [  0.],\n",
        "        [  0.],\n",
        "        [  0.],\n",
        "        [  0.],\n",
        "        [  0.],\n",
        "        [  0.],\n",
        "        [  0.],"
      ],
      "metadata": {
        "id": "Klct4My0_IfC"
      }
    },
    {
      "cell_type": "code",
      "source": [
        "number_of_classes = 10\n",
        "Y_train = np_utils.to_categorical(Y_train, number_of_classes)\n",
        "Y_test = np_utils.to_categorical(Y_test,number_of_classes)\n",
        "Y_train[0]"
      ],
      "metadata": {
        "id": "s_KHXR2L_Pj4"
      },
      "execution_count": null,
      "outputs": []
    },
    {
      "cell_type": "code",
      "source": [
        "array([0., 0., 0., 0., 0., 1., 0., 0., 0., 0.], dtype=float32)"
      ],
      "metadata": {
        "id": "x7KhnfnG_UL0"
      },
      "execution_count": null,
      "outputs": []
    },
    {
      "cell_type": "code",
      "source": [
        "from tensorflow.keras.models import Sequential\n",
        "from tensorflow.keras.layers import Convolution2D,MaxPooling2D,Flatten,Dense\n",
        "model = Sequential()\n",
        "model.add(Convolution2D(64, (3,3), input_shape=(28,28,1),activation='relu'))\n",
        "model.add(Convolution2D(32,(3,3),activation='relu'))\n",
        "model.add(Flatten())\n",
        "model.add(Dense(number_of_classes, activation='softmax'))"
      ],
      "metadata": {
        "id": "c9PiWVLp_fbb"
      },
      "execution_count": null,
      "outputs": []
    },
    {
      "cell_type": "code",
      "source": [
        "model.compile(loss='categorical_crossentropy',optimizer='Adam',metrics=['accuracy'])"
      ],
      "metadata": {
        "id": "O6dC2caj_j1N"
      },
      "execution_count": null,
      "outputs": []
    },
    {
      "cell_type": "code",
      "source": [
        "model.fit(X_train, Y_train, batch_size=32, epochs=5, validation_data=(X_test,Y_test))"
      ],
      "metadata": {
        "id": "6ihId-xg_n5y"
      },
      "execution_count": null,
      "outputs": []
    },
    {
      "cell_type": "markdown",
      "source": [
        "Epoch 1/5\n",
        "1875/1875 [==============================] - 170s 90ms/step - loss: 0.2257 - accuracy: 0.9519 - val_loss: 0.0858 - val_accuracy: 0.9743\n",
        "Epoch 2/5\n",
        "1875/1875 [==============================] - 169s 90ms/step - loss: 0.0680 - accuracy: 0.9787 - val_loss: 0.0850 - val_accuracy: 0.9764\n",
        "Epoch 3/5\n",
        "1875/1875 [==============================] - 168s 90ms/step - loss: 0.0496 - accuracy: 0.9845 - val_loss: 0.0754 - val_accuracy: 0.9790\n",
        "Epoch 4/5\n",
        "1875/1875 [==============================] - 169s 90ms/step - loss: 0.0372 - accuracy: 0.9883 - val_loss: 0.1068 - val_accuracy: 0.9717"
      ],
      "metadata": {
        "id": "QGnGMRjB_wqL"
      }
    },
    {
      "cell_type": "code",
      "source": [
        "metrics = model.evaluate(X_test, Y_test, verbose=0)\n",
        "print(\"Metrics(Test loss & Test Accuracy):\")\n",
        "print(metrics)"
      ],
      "metadata": {
        "id": "RtmzGb_G_4rE"
      },
      "execution_count": null,
      "outputs": []
    },
    {
      "cell_type": "markdown",
      "source": [
        "Metrics(Test loss & Test Accuracy):\n",
        "[0.1048000231385231, 0.9764999747276306]"
      ],
      "metadata": {
        "id": "mv4MmcAZ_-xl"
      }
    },
    {
      "cell_type": "code",
      "source": [
        "prediction=model.predict(X_test[:4])\n",
        "print(prediction)\n"
      ],
      "metadata": {
        "id": "U8Hese9yAB2V"
      },
      "execution_count": null,
      "outputs": []
    },
    {
      "cell_type": "code",
      "source": [
        "import numpy as np\n",
        "print(np.argmax(prediction,axis=1))\n",
        "print(Y_test[:4])"
      ],
      "metadata": {
        "id": "VJ90p2BiAG7E"
      },
      "execution_count": null,
      "outputs": []
    },
    {
      "cell_type": "markdown",
      "source": [
        "1/1 [==============================] - 0s 125ms/step\n",
        "[[5.7866689e-10 3.4325338e-16 9.5908455e-11 3.5852492e-09 3.5311626e-15\n",
        "  3.7611445e-13 5.6420441e-17 1.0000000e+00 4.6796553e-11 6.9279948e-10]\n",
        " [3.5954767e-11 7.9639699e-09 1.0000000e+00 9.9368148e-13 7.8313027e-14\n",
        "  1.1733892e-16 2.1630142e-09 2.0891699e-15 5.0500099e-12 3.7889551e-19]\n",
        " [3.2466410e-08 9.9947673e-01 2.8770710e-05 1.1257710e-08 3.0614538e-04\n",
        "  5.8766449e-07 7.7125250e-08 2.5641620e-09 1.8761879e-04 2.3759544e-08]\n",
        " [1.0000000e+00 1.1996034e-16 1.5942723e-11 4.6411275e-16 8.3766388e-14\n",
        "  9.4465570e-13 8.1442735e-11 9.4531119e-18 3.4494834e-14 2.1518757e-12]]\n",
        "[7 2 1 0]\n",
        "[[0. 0. 0. 0. 0. 0. 0. 1. 0. 0.]\n",
        " [0. 0. 1. 0. 0. 0. 0. 0. 0. 0.]\n",
        " [0. 1. 0. 0. 0. 0. 0. 0. 0. 0.]\n",
        " [1. 0. 0. 0. 0. 0. 0. 0. 0. 0.]]"
      ],
      "metadata": {
        "id": "u4GCEZZLAULT"
      }
    },
    {
      "cell_type": "code",
      "source": [
        "metrics = model.evaluate(X_test, Y_test, verbose=0)\n",
        "print(\"Metrics(Test loss & Test Accuracy):\")\n",
        "print(metrics)"
      ],
      "metadata": {
        "id": "gPMPnVsDAYmz"
      },
      "execution_count": null,
      "outputs": []
    },
    {
      "cell_type": "markdown",
      "source": [
        "Metrics(Test loss & Test Accuracy):\n",
        "[0.1048000231385231, 0.9764999747276306]"
      ],
      "metadata": {
        "id": "rpcc3sIlAdeC"
      }
    },
    {
      "cell_type": "code",
      "source": [
        "prediction=model.predict(X_test[:4])\n",
        "print(prediction)\n",
        "print(np.argmax(prediction,axis=1))\n",
        "print(Y_test[:4])"
      ],
      "metadata": {
        "id": "ubKI7OUHAisR"
      },
      "execution_count": null,
      "outputs": []
    },
    {
      "cell_type": "markdown",
      "source": [
        "1/1 [==============================] - 0s 22ms/step\n",
        "[[5.7866689e-10 3.4325338e-16 9.5908455e-11 3.5852492e-09 3.5311626e-15\n",
        "  3.7611445e-13 5.6420441e-17 1.0000000e+00 4.6796553e-11 6.9279948e-10]\n",
        " [3.5954767e-11 7.9639699e-09 1.0000000e+00 9.9368148e-13 7.8313027e-14\n",
        "  1.1733892e-16 2.1630142e-09 2.0891699e-15 5.0500099e-12 3.7889551e-19]\n",
        " [3.2466410e-08 9.9947673e-01 2.8770710e-05 1.1257710e-08 3.0614538e-04\n",
        "  5.8766449e-07 7.7125250e-08 2.5641620e-09 1.8761879e-04 2.3759544e-08]\n",
        " [1.0000000e+00 1.1996034e-16 1.5942723e-11 4.6411275e-16 8.3766388e-14\n",
        "  9.4465570e-13 8.1442735e-11 9.4531119e-18 3.4494834e-14 2.1518757e-12]]\n",
        "[7 2 1 0]\n",
        "[[0. 0. 0. 0. 0. 0. 0. 1. 0. 0.]\n",
        " [0. 0. 1. 0. 0. 0. 0. 0. 0. 0.]\n",
        " [0. 1. 0. 0. 0. 0. 0. 0. 0. 0.]\n",
        " [1. 0. 0. 0. 0. 0. 0. 0. 0. 0.]]"
      ],
      "metadata": {
        "id": "2e1viSPIAr19"
      }
    },
    {
      "cell_type": "code",
      "source": [
        "model.save(\"models/mnistCNN.h5\")"
      ],
      "metadata": {
        "id": "R7t6TYYuAvr3"
      },
      "execution_count": null,
      "outputs": []
    }
  ]
}