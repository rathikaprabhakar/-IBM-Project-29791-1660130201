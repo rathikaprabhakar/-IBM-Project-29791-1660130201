{
  "nbformat": 4,
  "nbformat_minor": 0,
  "metadata": {
    "colab": {
      "provenance": []
    },
    "kernelspec": {
      "name": "python3",
      "display_name": "Python 3"
    },
    "language_info": {
      "name": "python"
    }
  },
  "cells": [
    {
      "cell_type": "markdown",
      "source": [
        "Importing required Libraries"
      ],
      "metadata": {
        "id": "7HCkW6Lt50az"
      }
    },
    {
      "cell_type": "code",
      "source": [
        "import numpy#for numerical analysis\n",
        "import tensorflow#open source ml tool by google\n"
      ],
      "metadata": {
        "id": "kh5XeNzd53VM"
      },
      "execution_count": null,
      "outputs": []
    },
    {
      "cell_type": "code",
      "source": [
        "from tensorflow.keras.datasets import mnist #mnist dataset\n",
        "from tensorflow.keras.models import Sequential\n",
        "from tensorflow.keras import layers"
      ],
      "metadata": {
        "id": "0G1lPoMk5_qi"
      },
      "execution_count": null,
      "outputs": []
    },
    {
      "cell_type": "code",
      "source": [
        "from tensorflow.keras.layers import Dense,Flatten\n",
        "from tensorflow.keras.layers import Conv2D\n",
        "from tensorflow import keras"
      ],
      "metadata": {
        "id": "ebRskMN06GuZ"
      },
      "execution_count": null,
      "outputs": []
    },
    {
      "cell_type": "code",
      "source": [
        "from tensorflow.keras.optimizers import Adam\n",
        "from keras.utils import np_utils"
      ],
      "metadata": {
        "id": "ygnTLpWa6KSt"
      },
      "execution_count": null,
      "outputs": []
    },
    {
      "cell_type": "markdown",
      "source": [
        "Loading dataset"
      ],
      "metadata": {
        "id": "75VYWqEX6Nk6"
      }
    },
    {
      "cell_type": "markdown",
      "source": [
        "Dataset is available in tensorflow dataset repository"
      ],
      "metadata": {
        "id": "3-T9zyV_6TsG"
      }
    },
    {
      "cell_type": "code",
      "source": [
        "(x_train,y_train),(x_test,y_test)=mnist.load_data()"
      ],
      "metadata": {
        "id": "CWc8q3Xv6PHj"
      },
      "execution_count": null,
      "outputs": []
    },
    {
      "cell_type": "code",
      "source": [
        "print(x_train.shape)\n",
        "print(y_train.shape)"
      ],
      "metadata": {
        "id": "XNm_HSbg6jqz"
      },
      "execution_count": null,
      "outputs": []
    },
    {
      "cell_type": "markdown",
      "source": [
        "(60000, 28, 28)\n",
        "(60000,)"
      ],
      "metadata": {
        "id": "mPPtHfkG6lNJ"
      }
    },
    {
      "cell_type": "markdown",
      "source": [
        "Training Dataset has 60000 images & testing has 10000 images"
      ],
      "metadata": {
        "id": "XGIC4oSC6xS3"
      }
    },
    {
      "cell_type": "code",
      "source": [
        "print(x_test.shape)\n",
        "print(y_test.shape)"
      ],
      "metadata": {
        "id": "HvOf3Y6E6zp-"
      },
      "execution_count": null,
      "outputs": []
    },
    {
      "cell_type": "markdown",
      "source": [
        "(10000, 28, 28)\n",
        "(10000,)"
      ],
      "metadata": {
        "id": "NZ3ezJpB65qI"
      }
    },
    {
      "cell_type": "markdown",
      "source": [
        "Analyze the data"
      ],
      "metadata": {
        "id": "9d95ltD96-tp"
      }
    },
    {
      "cell_type": "code",
      "source": [
        "x_train[3]"
      ],
      "metadata": {
        "id": "03el4_p27H5x"
      },
      "execution_count": null,
      "outputs": []
    },
    {
      "cell_type": "markdown",
      "source": [
        "array([[  0,   0,   0,   0,   0,   0,   0,   0,   0,   0,   0,   0,   0,\n",
        "          0,   0,   0,   0,   0,   0,   0,   0,   0,   0,   0,   0,   0,\n",
        "          0,   0],\n",
        "       [  0,   0,   0,   0,   0,   0,   0,   0,   0,   0,   0,   0,   0,\n",
        "          0,   0,   0,   0,   0,   0,   0,   0,   0,   0,   0,   0,   0,\n",
        "          0,   0],\n",
        "       [  0,   0,   0,   0,   0,   0,   0,   0,   0,   0,   0,   0,   0,\n",
        "          0,   0,   0,   0,   0,   0,   0,   0,   0,   0,   0,   0,   0,\n",
        "          0,   0],\n",
        "       [  0,   0,   0,   0,   0,   0,   0,   0,   0,   0,   0,   0,   0,\n",
        "          0,   0,   0,   0,   0,   0,   0,   0,   0,   0,   0,   0,   0,\n",
        "          0,   0],\n",
        "       [  0,   0,   0,   0,   0,   0,   0,   0,   0,   0,   0,   0,   0,\n",
        "          0,   0,   0,   0,   0,   0,   0,   0,   0,   0,   0,   0,   0,\n",
        "          0,   0],\n",
        "       [  0,   0,   0,   0,   0,   0,   0,   0,   0,   0,   0,   0,   0,\n",
        "          0,   0,   0,   0,   0, 124, 253, 255,  63,   0,   0,   0,   0,\n",
        "          0,   0],\n",
        "       [  0,   0,   0,   0,   0,   0,   0,   0,   0,   0,   0,   0,   0,\n",
        "          0,   0,   0,   0,  96, 244, 251, 253,  62,   0,   0,   0,   0,\n",
        "          0,   0],"
      ],
      "metadata": {
        "id": "NZpjZOKy7JXh"
      }
    },
    {
      "cell_type": "code",
      "source": [
        "y_train[3]"
      ],
      "metadata": {
        "id": "QRzElnfO7c5i"
      },
      "execution_count": null,
      "outputs": []
    },
    {
      "cell_type": "markdown",
      "source": [
        "1"
      ],
      "metadata": {
        "id": "R93d7DZ-7lZY"
      }
    },
    {
      "cell_type": "code",
      "source": [
        "import matplotlib.pyplot as plt"
      ],
      "metadata": {
        "id": "kS5nCw1-7pr5"
      },
      "execution_count": null,
      "outputs": []
    },
    {
      "cell_type": "code",
      "source": [
        "plt.imshow(x_train[3])"
      ],
      "metadata": {
        "id": "js86w5Lm7v1i"
      },
      "execution_count": null,
      "outputs": []
    },
    {
      "cell_type": "markdown",
      "source": [
        "![image.png](data:image/png;base64,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)"
      ],
      "metadata": {
        "id": "pl5ZjoD5716P"
      }
    },
    {
      "cell_type": "markdown",
      "source": [
        "Reshaping the data"
      ],
      "metadata": {
        "id": "TIUPPimo78hA"
      }
    },
    {
      "cell_type": "markdown",
      "source": [
        ",As we are using Deep learning neural network, the input for this network to get trained on should be of higher dimensional. Our dataset is having three-dimensional images so we have to reshape them too higher dimensions"
      ],
      "metadata": {
        "id": "K7mXfE_h8BWv"
      }
    },
    {
      "cell_type": "code",
      "source": [
        "#(batch,height,width,channel)\n",
        "x_train=x_train.reshape(60000,28,28,1).astype('float32')\n",
        "x_test=x_test.reshape(10000,28,28,1).astype('float32')"
      ],
      "metadata": {
        "id": "q26brO3A8LHZ"
      },
      "execution_count": null,
      "outputs": []
    },
    {
      "cell_type": "markdown",
      "source": [
        "Applying one hot encoding"
      ],
      "metadata": {
        "id": "YS5OGgA98QeI"
      }
    },
    {
      "cell_type": "markdown",
      "source": [
        "One hot encoding to convert numerical values to classes where 0 to 9 are 10 seperate classes if value is 5 class 5 is 1 else 0"
      ],
      "metadata": {
        "id": "B4pj_cYk8VWx"
      }
    },
    {
      "cell_type": "code",
      "source": [
        "no_of_classes=10\n",
        "y_train=np_utils.to_categorical(y_train,no_of_classes)\n",
        "y_test=np_utils.to_categorical(y_test,no_of_classes)"
      ],
      "metadata": {
        "id": "04dA5I0c8ZCs"
      },
      "execution_count": null,
      "outputs": []
    },
    {
      "cell_type": "code",
      "source": [
        "y_test[3]"
      ],
      "metadata": {
        "id": "fD7qDd778df3"
      },
      "execution_count": null,
      "outputs": []
    },
    {
      "cell_type": "code",
      "source": [
        "array([1., 0., 0., 0., 0., 0., 0., 0., 0., 0.], dtype=float32)"
      ],
      "metadata": {
        "id": "RkkRYvK88hBE"
      },
      "execution_count": null,
      "outputs": []
    },
    {
      "cell_type": "markdown",
      "source": [
        "Add CNN Layers"
      ],
      "metadata": {
        "id": "MnC-71pD8k32"
      }
    },
    {
      "cell_type": "code",
      "source": [
        "model=Sequential()\n",
        "\n",
        "model.add(Conv2D(64,(3,3),input_shape=(28,28,1),activation='relu'))\n",
        "model.add(Conv2D(32,(3,3),activation='relu'))\n",
        "\n",
        "model.add(Flatten())\n",
        "model.add(Dense(no_of_classes,activation='softmax'))"
      ],
      "metadata": {
        "id": "jG6Qf7DD8rJo"
      },
      "execution_count": null,
      "outputs": []
    },
    {
      "cell_type": "markdown",
      "source": [
        "Compiling the model"
      ],
      "metadata": {
        "id": "rfgmNss39Z23"
      }
    },
    {
      "cell_type": "code",
      "source": [
        "model.compile(loss='categorical_crossentropy',optimizer='Adam',metrics=['accuracy'])"
      ],
      "metadata": {
        "id": "3XLajY4N9bQw"
      },
      "execution_count": null,
      "outputs": []
    },
    {
      "cell_type": "markdown",
      "source": [
        "Train the model"
      ],
      "metadata": {
        "id": "fMxSQnJMBgh6"
      }
    },
    {
      "cell_type": "code",
      "source": [
        "model.fit(x_train,y_train,validation_data=(x_test,y_test),epochs=5,batch_size=32)"
      ],
      "metadata": {
        "id": "fGUNCUs9BkVc"
      },
      "execution_count": null,
      "outputs": []
    },
    {
      "cell_type": "markdown",
      "source": [
        "Epoch 1/5\n",
        "1875/1875 [==============================] - 237s 126ms/step - loss: 0.0667 - accuracy: 0.9801 - val_loss: 0.0696 - val_accuracy: 0.9788\n",
        "Epoch 2/5\n",
        "1875/1875 [==============================] - 241s 128ms/step - loss: 0.0492 - accuracy: 0.9844 - val_loss: 0.0686 - val_accuracy: 0.9785\n",
        "Epoch 3/5\n",
        "1875/1875 [==============================] - 214s 114ms/step - loss: 0.0356 - accuracy: 0.9896 - val_loss: 0.0872 - val_accuracy: 0.9791\n",
        "Epoch 4/5\n",
        "1875/1875 [==============================] - 204s 109ms/step - loss: 0.0260 - accuracy: 0.9921 - val_loss: 0.1150 - val_accuracy: 0.9766\n",
        "Epoch 5/5\n",
        "1875/1875 [==============================] - 202s 108ms/step - loss: 0.0229 - accuracy: 0.9930 - val_loss: 0.1600 - val_accuracy: 0.9703\n"
      ],
      "metadata": {
        "id": "RsdmV7YOBrSi"
      }
    },
    {
      "cell_type": "markdown",
      "source": [
        "Observing the Metrics"
      ],
      "metadata": {
        "id": "0hcbnBtwBvfb"
      }
    },
    {
      "cell_type": "code",
      "source": [
        "metrics=model.evaluate(x_test,y_test,verbose=0)\n",
        "print(\"metrics-score=>test loss & accuracy\")\n",
        "print(metrics)"
      ],
      "metadata": {
        "id": "_r8X21tNBy_v"
      },
      "execution_count": null,
      "outputs": []
    },
    {
      "cell_type": "markdown",
      "source": [
        "metrics-score=>test loss & accuracy\n",
        "[0.10003039240837097, 0.968999981880188]"
      ],
      "metadata": {
        "id": "lsroMvVsB02O"
      }
    },
    {
      "cell_type": "markdown",
      "source": [
        "Test the model"
      ],
      "metadata": {
        "id": "mI2LwRhMCIqr"
      }
    },
    {
      "cell_type": "code",
      "source": [
        "prediction=model.predict(x_test[:5])\n",
        "print(prediction)"
      ],
      "metadata": {
        "id": "2sVmg1TACKh6"
      },
      "execution_count": null,
      "outputs": []
    },
    {
      "cell_type": "markdown",
      "source": [
        "1/1 [==============================] - 0s 65ms/step\n",
        "[[1.3260176e-08 7.7986006e-13 3.6455315e-08 2.9610092e-07 1.5646798e-11\n",
        "  1.3778896e-10 4.1263667e-13 9.9999964e-01 1.1379490e-07 2.1045294e-09]\n",
        " [2.1006859e-07 1.2594641e-07 9.9999034e-01 3.5162945e-08 4.3353143e-09\n",
        "  9.1123662e-12 9.1517586e-06 3.2703376e-10 1.4321186e-07 3.1940206e-13]\n",
        " [2.4802778e-06 9.9979466e-01 1.4921059e-05 3.7803684e-07 8.7335298e-05\n",
        "  2.8903003e-05 2.7718106e-05 1.2867370e-05 3.0750452e-05 2.2935906e-08]\n",
        " [9.9995744e-01 4.6908321e-11 3.4130477e-05 4.1088759e-09 8.1136318e-07\n",
        "  5.7254068e-09 7.3323104e-06 9.4911625e-09 2.1464933e-07 4.6556575e-08]\n",
        " [3.2597340e-09 1.9132728e-11 2.1055206e-10 9.5630396e-12 1.0000000e+00\n",
        "  4.2450727e-11 8.9529953e-11 1.0034685e-10 7.5573428e-12 1.3646383e-09]]"
      ],
      "metadata": {
        "id": "7YuF3y_3CWEk"
      }
    },
    {
      "cell_type": "code",
      "source": [
        "import numpy as np"
      ],
      "metadata": {
        "id": "KQSsJuvUCbbV"
      },
      "execution_count": null,
      "outputs": []
    },
    {
      "cell_type": "code",
      "source": [
        "print(np.argmax(prediction,axis=1))"
      ],
      "metadata": {
        "id": "IDzCDpB1Ce1d"
      },
      "execution_count": null,
      "outputs": []
    },
    {
      "cell_type": "markdown",
      "source": [
        "[7 2 1 0 4]"
      ],
      "metadata": {
        "id": "2Hx43yCJCh_M"
      }
    },
    {
      "cell_type": "code",
      "source": [
        "print(y_test[:5])"
      ],
      "metadata": {
        "id": "7o4Up_5JCoCp"
      },
      "execution_count": null,
      "outputs": []
    },
    {
      "cell_type": "markdown",
      "source": [
        "[[0. 0. 0. 0. 0. 0. 0. 1. 0. 0.]\n",
        " [0. 0. 1. 0. 0. 0. 0. 0. 0. 0.]\n",
        " [0. 1. 0. 0. 0. 0. 0. 0. 0. 0.]\n",
        " [1. 0. 0. 0. 0. 0. 0. 0. 0. 0.]\n",
        " [0. 0. 0. 0. 1. 0. 0. 0. 0. 0.]]\n"
      ],
      "metadata": {
        "id": "cpt3WrQLCuO_"
      }
    },
    {
      "cell_type": "markdown",
      "source": [
        "Save the Model"
      ],
      "metadata": {
        "id": "4cBEsfkNCxva"
      }
    },
    {
      "cell_type": "code",
      "source": [
        "model.save('models/mnistcnn.h5')"
      ],
      "metadata": {
        "id": "7S7CXbbKC0rT"
      },
      "execution_count": null,
      "outputs": []
    },
    {
      "cell_type": "markdown",
      "source": [
        "Test the saved model"
      ],
      "metadata": {
        "id": "fs_88kO0EJGs"
      }
    },
    {
      "cell_type": "markdown",
      "source": [
        "inputs loaded from mnist"
      ],
      "metadata": {
        "id": "MdEzwyBiENMC"
      }
    },
    {
      "cell_type": "code",
      "source": [
        "print('X_train:' +str(X_train.shape))\n",
        "print('y_train:' +str(y_train.shape))\n",
        "print('X_test:' +str(X_test.shape))\n",
        "print('y_test:' +str(y_test.shape))\n",
        "from matplotlib import pyplot\n",
        "for i in range(9):\n",
        "  pyplot.subplot(330+1+i)\n",
        "  pyplot.imshow(X_train[i],cmap=pyplot.get_cmap('gray'))\n",
        "  pyplot.show()"
      ],
      "metadata": {
        "id": "jyukpczgEVLD"
      },
      "execution_count": null,
      "outputs": []
    },
    {
      "cell_type": "markdown",
      "source": [
        "X_train:(60000, 28, 28)\n",
        "y_train:(60000, 10)\n",
        "X_test:(10000, 28, 28)\n",
        "y_test:(10000, 10)\n",
        "\n",
        "\n",
        "\n",
        "\n"
      ],
      "metadata": {
        "id": "vlZwmJWvEj0X"
      }
    },
    {
      "cell_type": "markdown",
      "source": [
        "![image.png](data:image/png;base64,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)"
      ],
      "metadata": {
        "id": "VrqSKHGVEmlm"
      }
    },
    {
      "cell_type": "markdown",
      "source": [
        "![image.png](data:image/png;base64,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)"
      ],
      "metadata": {
        "id": "MvrAFC22EuIi"
      }
    },
    {
      "cell_type": "markdown",
      "source": [
        "![image.png](data:image/png;base64,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)"
      ],
      "metadata": {
        "id": "MjezGm1SExfL"
      }
    },
    {
      "cell_type": "markdown",
      "source": [
        "![image.png](data:image/png;base64,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)"
      ],
      "metadata": {
        "id": "z9GXWEdUE2Cq"
      }
    },
    {
      "cell_type": "markdown",
      "source": [
        "![image.png](data:image/png;base64,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)"
      ],
      "metadata": {
        "id": "Y9GTG5-gE6Ht"
      }
    },
    {
      "cell_type": "markdown",
      "source": [
        "![image.png](data:image/png;base64,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)"
      ],
      "metadata": {
        "id": "GjK4WeEwE9q3"
      }
    },
    {
      "cell_type": "markdown",
      "source": [
        "![image.png](data:image/png;base64,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)"
      ],
      "metadata": {
        "id": "m_8gP5qOFE1f"
      }
    },
    {
      "cell_type": "markdown",
      "source": [
        "![image.png](data:image/png;base64,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)"
      ],
      "metadata": {
        "id": "j9z1NFciFJBf"
      }
    },
    {
      "cell_type": "markdown",
      "source": [
        "![image.png](data:image/png;base64,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)"
      ],
      "metadata": {
        "id": "cJBuIV13FMyD"
      }
    },
    {
      "cell_type": "markdown",
      "source": [
        "ouput predicted from saved model\n",
        "\n",
        "inputs as hown are 5,0,4,1,9,2,1,3,1"
      ],
      "metadata": {
        "id": "rhhX2gmUFVrz"
      }
    },
    {
      "cell_type": "code",
      "source": [
        "from tensorflow.keras.models import load_model\n",
        "model=load_model('models/mnistcnn.h5')\n",
        "from PIL import Image\n",
        "for index in range(9):\n",
        "  img=X_train[index].reshape((28,28))\n",
        "  imgarray=np.array(img)\n",
        "  imgarray=imgarray.reshape(1,28,28,1)\n",
        "  y_pred=model.predict(imgarray)\n",
        "  print(np.argmax(y_pred))"
      ],
      "metadata": {
        "id": "1oqo8fgAFaBP"
      },
      "execution_count": null,
      "outputs": []
    },
    {
      "cell_type": "markdown",
      "source": [
        "1/1 [==============================] - 0s 67ms/step\n",
        "5\n",
        "1/1 [==============================] - 0s 21ms/step\n",
        "0\n",
        "1/1 [==============================] - 0s 21ms/step\n",
        "4\n",
        "1/1 [==============================] - 0s 23ms/step\n",
        "1\n",
        "1/1 [==============================] - 0s 19ms/step\n",
        "9\n",
        "1/1 [==============================] - 0s 19ms/step\n",
        "2\n",
        "1/1 [==============================] - 0s 19ms/step\n",
        "1\n",
        "1/1 [==============================] - 0s 22ms/step\n",
        "3\n",
        "1/1 [=========================="
      ],
      "metadata": {
        "id": "dO2KhRNCFeeT"
      }
    }
  ]
}