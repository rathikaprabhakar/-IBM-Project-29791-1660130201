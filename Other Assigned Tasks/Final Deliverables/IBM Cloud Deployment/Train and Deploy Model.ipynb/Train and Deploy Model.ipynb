{
  "nbformat": 4,
  "nbformat_minor": 0,
  "metadata": {
    "colab": {
      "provenance": []
    },
    "kernelspec": {
      "name": "python3",
      "display_name": "Python 3"
    },
    "language_info": {
      "name": "python"
    }
  },
  "cells": [
    {
      "cell_type": "markdown",
      "source": [
        "Import necessary libraries"
      ],
      "metadata": {
        "id": "2hX2QUx9e0WK"
      }
    },
    {
      "cell_type": "code",
      "source": [
        "import pandas as pd\n",
        "import numpy as np\n",
        "\n",
        "import matplotlib.pyplot as plt\n",
        "import seaborn as sns\n",
        "\n",
        "from sklearn.model_selection import train_test_split\n",
        "from sklearn.metrics import confusion_matrix\n",
        "\n",
        "import keras\n",
        "from keras.models import Sequential\n",
        "from keras.layers import Conv2D, Lambda, MaxPooling2D\n",
        "from keras.layers import Dense, Dropout, Flatten\n",
        "from tensorflow.keras.layers import BatchNormalization\n",
        "\n",
        "from keras.preprocessing.image import ImageDataGenerator\n",
        "\n",
        "from keras.utils.np_utils import to_categorical\n",
        "\n",
        "from keras.datasets import mnist"
      ],
      "metadata": {
        "id": "K3ST46P7e5CZ"
      },
      "execution_count": null,
      "outputs": []
    },
    {
      "cell_type": "markdown",
      "source": [
        "Load the data"
      ],
      "metadata": {
        "id": "ZVaXtkWme8Qf"
      }
    },
    {
      "cell_type": "code",
      "source": [
        "X_train, Y_train), (X_test, Y_test) = mnist.load_data()\n",
        "print(X_train.shape)\n",
        "print(X_test.shape)"
      ],
      "metadata": {
        "id": "IWJI6k9hfIzp"
      },
      "execution_count": null,
      "outputs": []
    },
    {
      "cell_type": "markdown",
      "source": [
        "Downloading data from https://storage.googleapis.com/tensorflow/tf-keras-datasets/mnist.npz\n",
        "11493376/11490434 [==============================] - 0s 0us/step\n",
        "11501568/11490434 [==============================] - 0s 0us/step\n",
        "(60000, 28, 28)\n",
        "(10000, 28, 28)"
      ],
      "metadata": {
        "id": "fYrHkalqfNEN"
      }
    },
    {
      "cell_type": "markdown",
      "source": [
        "Data pre-processing"
      ],
      "metadata": {
        "id": "ZoLh0tXrfRSX"
      }
    },
    {
      "cell_type": "code",
      "source": [
        "X_train = X_train / 255.0\n",
        "X_test = X_test / 255.0"
      ],
      "metadata": {
        "id": "xU_zYCXwfTPp"
      },
      "execution_count": null,
      "outputs": []
    },
    {
      "cell_type": "code",
      "source": [
        "X_train = X_train.reshape(-1,28,28,1)\n",
        "X_test = X_test.reshape(-1,28,28,1)"
      ],
      "metadata": {
        "id": "Kb4GIPkXfWp4"
      },
      "execution_count": null,
      "outputs": []
    },
    {
      "cell_type": "code",
      "source": [
        "Y_train = to_categorical(Y_train)\n",
        "Y_test = to_categorical(Y_test)"
      ],
      "metadata": {
        "id": "Bk_yLVwhfabS"
      },
      "execution_count": null,
      "outputs": []
    },
    {
      "cell_type": "code",
      "source": [
        "mean = np.mean(X_train)\n",
        "std = np.std(X_train)\n",
        "\n",
        "def standardize(x):\n",
        "    return (x-mean)/std"
      ],
      "metadata": {
        "id": "flwpz7kufdrF"
      },
      "execution_count": null,
      "outputs": []
    },
    {
      "cell_type": "markdown",
      "source": [
        "Create model"
      ],
      "metadata": {
        "id": "WyFfJGx4fxh4"
      }
    },
    {
      "cell_type": "code",
      "source": [
        "model=Sequential()\n",
        "\n",
        "model.add(Conv2D(filters=64, kernel_size = (3,3), activation=\"relu\", input_shape=(28,28,1)))\n",
        "model.add(Conv2D(filters=64, kernel_size = (3,3), activation=\"relu\"))\n",
        "model.add(MaxPooling2D(pool_size=(2,2)))\n",
        "model.add(BatchNormalization())\n",
        "\n",
        "model.add(Conv2D(filters=128, kernel_size = (3,3), activation=\"relu\"))\n",
        "model.add(Conv2D(filters=128, kernel_size = (3,3), activation=\"relu\"))\n",
        "model.add(MaxPooling2D(pool_size=(2,2)))\n",
        "model.add(BatchNormalization())    \n",
        "\n",
        "model.add(Conv2D(filters=256, kernel_size = (3,3), activation=\"relu\"))\n",
        "model.add(MaxPooling2D(pool_size=(2,2)))\n",
        "model.add(BatchNormalization())\n",
        "    \n",
        "model.add(Flatten())\n",
        "model.add(Dense(512,activation=\"relu\"))\n",
        "    \n",
        "model.add(Dense(10,activation=\"softmax\"))\n",
        "    \n",
        "model.compile(loss=\"categorical_crossentropy\", optimizer=\"adam\", metrics=[\"accuracy\"])\n"
      ],
      "metadata": {
        "id": "kmVb7VjQfzEM"
      },
      "execution_count": null,
      "outputs": []
    },
    {
      "cell_type": "code",
      "source": [
        "model.summary()"
      ],
      "metadata": {
        "id": "oNxTmgEvf_ia"
      },
      "execution_count": null,
      "outputs": []
    },
    {
      "cell_type": "markdown",
      "source": [
        "Model: \"sequential\"\n",
        "_________________________________________________________________\n",
        " Layer (type)                Output Shape              Param #   \n",
        "=================================================================\n",
        " conv2d (Conv2D)             (None, 26, 26, 64)        640       \n",
        "                                                                 \n",
        " conv2d_1 (Conv2D)           (None, 24, 24, 64)        36928     \n",
        "                                                                 \n",
        " max_pooling2d (MaxPooling2D  (None, 12, 12, 64)       0         \n",
        " )                                                               \n",
        "                                                                 \n",
        " batch_normalization (BatchN  (None, 12, 12, 64)       256       \n",
        " ormalization)                                                   \n",
        " conv2d_2 (Conv2D)           (None, 10, 10, 128)       73856     \n",
        "                                                                 \n",
        " conv2d_3 (Conv2D)           (None, 8, 8, 128)         147584    \n",
        "                                                                 \n",
        " max_pooling2d_1 (MaxPooling  (None, 4, 4, 128)        0         \n",
        " 2D)                                                             \n",
        "                                                                 \n",
        " batch_normalization_1 (Batc  (None, 4, 4, 128)        512       \n",
        " hNormalization)                                                 \n",
        "                                                                 \n",
        " conv2d_4 (Conv2D)           (None, 2, 2, 256)         295168    \n",
        "                                                                 \n",
        " max_pooling2d_2 (MaxPooling  (None, 1, 1, 256)        0         \n",
        " 2D)                                                             \n",
        "                                                                 \n",
        " batch_normalization_2 (Batc  (None, 1, 1, 256)        1024      \n",
        " hNormalization)                                                 \n",
        "                                                                 \n",
        " flatten (Flatten)           (None, 256)               0         \n",
        "                                                                 \n",
        " dense (Dense)               (None, 512)               131584    \n",
        "                                                                 \n",
        " dense_1 (Dense)             (None, 10)                5130      \n",
        "                                                                 \n",
        "=================================================================\n",
        "Total params: 692,682\n",
        "Trainable params: 691,786\n",
        "Non-trainable params: 896\n",
        "______________________________              "
      ],
      "metadata": {
        "id": "z7gbe1NPgK4z"
      }
    },
    {
      "cell_type": "markdown",
      "source": [
        "Define training parameters"
      ],
      "metadata": {
        "id": "udOsYtpLgfqb"
      }
    },
    {
      "cell_type": "code",
      "source": [
        "datagen = ImageDataGenerator(\n",
        "        featurewise_center=False,\n",
        "        samplewise_center=False,\n",
        "        featurewise_std_normalization=False,\n",
        "        samplewise_std_normalization=False,\n",
        "        zca_whitening=False,\n",
        "        rotation_range=15,\n",
        "        zoom_range = 0.01,\n",
        "        width_shift_range=0.1,\n",
        "        height_shift_range=0.1,\n",
        "        horizontal_flip=False,\n",
        "        vertical_flip=False)\n",
        "\n",
        "\n",
        "train_gen = datagen.flow(X_train, Y_train, batch_size=128)\n",
        "test_gen = datagen.flow(X_test, Y_test, batch_size=128)"
      ],
      "metadata": {
        "id": "G7XAP6LVgl2o"
      },
      "execution_count": null,
      "outputs": []
    },
    {
      "cell_type": "code",
      "source": [
        "epochs = 10\n",
        "batch_size = 128\n",
        "train_steps = X_train.shape[0] // batch_size\n",
        "valid_steps = X_test.shape[0] // batch_size\n",
        "\n",
        "es = keras.callbacks.EarlyStopping(\n",
        "        monitor=\"val_accuracy\",\n",
        "        patience=10,\n",
        "        verbose=1,\n",
        "        mode=\"max\",\n",
        "        restore_best_weights=True,\n",
        "     )\n",
        "\n",
        "rp = keras.callbacks.ReduceLROnPlateau(\n",
        "        monitor=\"val_accuracy\",\n",
        "        factor=0.2,\n",
        "        patience=3,\n",
        "        verbose=1,\n",
        "        mode=\"max\",\n",
        "        min_lr=0.00001,\n",
        "     )"
      ],
      "metadata": {
        "id": "XPdUtRPCgpW7"
      },
      "execution_count": null,
      "outputs": []
    },
    {
      "cell_type": "markdown",
      "source": [
        "Train the model"
      ],
      "metadata": {
        "id": "3W6U03hKgtx8"
      }
    },
    {
      "cell_type": "code",
      "source": [
        "history = model.fit(train_gen, \n",
        "                    epochs = epochs, \n",
        "                    steps_per_epoch = train_steps,\n",
        "                    validation_data = test_gen,\n",
        "                    validation_steps = valid_steps, \n",
        "                    callbacks=[es, rp])"
      ],
      "metadata": {
        "id": "MxwZ1TMbgw4q"
      },
      "execution_count": null,
      "outputs": []
    },
    {
      "cell_type": "markdown",
      "source": [
        "Epoch 1/10\n",
        "468/468 [==============================] - 428s 912ms/step - loss: 0.1275 - accuracy: 0.9597 - val_loss: 0.1187 - val_accuracy: 0.9662 - lr: 0.0010\n",
        "Epoch 2/10\n",
        "468/468 [==============================] - 430s 920ms/step - loss: 0.0548 - accuracy: 0.9837 - val_loss: 0.0578 - val_accuracy: 0.9832 - lr: 0.0010\n",
        "Epoch 3/10\n",
        "468/468 [==============================] - 424s 906ms/step - loss: 0.0406 - accuracy: 0.9873 - val_loss: 0.0435 - val_accuracy: 0.9877 - lr: 0.0010\n",
        "Epoch 4/10\n",
        "468/468 [==============================] - 406s 868ms/step - loss: 0.0369 - accuracy: 0.9888 - val_loss: 0.0311 - val_accuracy: 0.9903 - lr: 0.0010\n",
        "Epoch 5/10\n",
        "468/468 [==============================] - 411s 878ms/step - loss: 0.0341 - accuracy: 0.9897 - val_loss: 0.0277 - val_accuracy: 0.9914 - lr: 0.0010\n",
        "Epoch 6/10\n",
        "468/468 [==============================] - 412s 879ms/step - loss: 0.0309 - accuracy: 0.9910 - val_loss: 0.0317 - val_accuracy: 0.9900 - lr: 0.0010\n",
        "Epoch 7/10\n",
        "468/468 [==============================] - 411s 878ms/step - loss: 0.0309 - accuracy: 0.9910 - val_loss: 0.0317 - val_accuracy: 0.9900 - lr: 0.0010\n",
        "Epoch 8/10\n",
        "468/468 [==============================] - ETA: 0s - loss: 0.0271 - accuracy: 0.9914\n",
        "Epoch 00008: ReduceLROnPlateau reducing learning rate to 0.00020000000949949026.\n",
        "468/468 [===="
      ],
      "metadata": {
        "id": "uN2FcSTIg5Ua"
      }
    },
    {
      "cell_type": "markdown",
      "source": [
        "Connect to IBM Watson Machine Learning instance"
      ],
      "metadata": {
        "id": "KIKGRFO_g9YF"
      }
    },
    {
      "cell_type": "code",
      "source": [
        "from ibm_watson_machine_learning import APIClient\n",
        "\n",
        "API_KEY = \"\"\n",
        "\n",
        "credentials = {\n",
        "    \"url\": \"https://us-south.ml.cloud.ibm.com\",\n",
        "    \"apikey\": API_KEY\n",
        "}\n",
        "\n",
        "client = APIClient(credentials)"
      ],
      "metadata": {
        "id": "wICAFtyJhJp1"
      },
      "execution_count": null,
      "outputs": []
    },
    {
      "cell_type": "code",
      "source": [
        "def guid_from_space_name(client, space_name):\n",
        "    space = client.spaces.get_details()\n",
        "    return(next(item for item in space['resources'] if item['entity']['name'] == space_name)['metadata']['id'])"
      ],
      "metadata": {
        "id": "qWnztYd8hODK"
      },
      "execution_count": null,
      "outputs": []
    },
    {
      "cell_type": "code",
      "source": [
        "space_uid = guid_from_space_name(client, 'Handwritten Digit Recognition')\n",
        "print(\"Space UID: \", space_uid)"
      ],
      "metadata": {
        "id": "2p31w-BhhRIU"
      },
      "execution_count": null,
      "outputs": []
    },
    {
      "cell_type": "markdown",
      "source": [
        "Space UID:  de0e9dab-efb5-4473-8fc8-3c6e43d91804"
      ],
      "metadata": {
        "id": "28PnM11NhVcI"
      }
    },
    {
      "cell_type": "code",
      "source": [
        "client.set.default_space(space_uid)"
      ],
      "metadata": {
        "id": "wNz45TgIhZ8D"
      },
      "execution_count": null,
      "outputs": []
    },
    {
      "cell_type": "markdown",
      "source": [
        "'SUCCESS'"
      ],
      "metadata": {
        "id": "3bp-0wUXhdvb"
      }
    },
    {
      "cell_type": "markdown",
      "source": [
        "Define model specifications for deployment"
      ],
      "metadata": {
        "id": "x4XDVHDRhhky"
      }
    },
    {
      "cell_type": "code",
      "source": [
        "client.software_specifications.list()"
      ],
      "metadata": {
        "id": "2iD6JuTGhlEk"
      },
      "execution_count": null,
      "outputs": []
    },
    {
      "cell_type": "markdown",
      "source": [
        "-----------------------------  ------------------------------------  ----\n",
        "NAME                           ASSET_ID                              TYPE\n",
        "default_py3.6                  0062b8c9-8b7d-44a0-a9b9-46c416adcbd9  base\n",
        "kernel-spark3.2-scala2.12      020d69ce-7ac1-5e68-ac1a-31189867356a  base\n",
        "pytorch-onnx_1.3-py3.7-edt     069ea134-3346-5748-b513-49120e15d288  base\n",
        "scikit-learn_0.20-py3.6        09c5a1d0-9c1e-4473-a344-eb7b665ff687  base\n",
        "spark-mllib_3.0-scala_2.12     09f4cff0-90a7-5899-b9ed-1ef348aebdee  base\n",
        "pytorch-onnx_rt22.1-py3.9      0b848dd4-e681-5599-be41-b5f6fccc6471  base\n",
        "ai-function_0.1-py3.6          0cdb0f1e-5376-4f4d-92dd-da3b69aa9bda  base\n",
        "shiny-r3.6                     0e6e79df-875e-4f24-8ae9-62dcc2148306  base\n",
        "tensorflow_2.4-py3.7-horovod   1092590a-307d-563d-9b62-4eb7d64b3f22  base\n",
        "pytorch_1.1-py3.6              10ac12d6-6b30-4ccd-8392-3e922c096a92  base\n",
        "tensorflow_1.15-py3.6-ddl      111e41b3-de2d-5422-a4d6-bf776828c4b7  base\n",
        "runtime-22.1-py3.9             12b83a17-24d8-5082-900f-0ab31fbfd3cb  base\n",
        "scikit-learn_0.22-py3.6        154010fa-5b3b-4ac1-82af-4d5ee5abbc85  base\n",
        "default_r3.6                   1b70aec3-ab34-4b87-8aa0-a4a3c8296a36  base\n",
        "pytorch-onnx_1.3-py3.6         1bc6029a-cc97-56da-b8e0-39c3880dbbe7  base\n",
        "kernel-spark3.3-r3.6           1c9e5454-f216-59dd-a20e-474a5cdf5988  base\n",
        "pytorch-onnx_rt22.1-py3.9-edt  1d362186-7ad5-5b59-8b6c-9d0880bde37f  base\n",
        "tensorflow_2.1-py3.6           1eb25b84-d6ed-5dde-b6a5-3fbdf1665666  base\n",
        "spark-mllib_3.2                20047f72-0a98-58c7-9ff5-a77b012eb8f5  base\n",
        "tenso"
      ],
      "metadata": {
        "id": "_EHzUpX7hq6i"
      }
    },
    {
      "cell_type": "markdown",
      "source": [
        "software_spec_uid = client.software_specifications.get_uid_by_name(\"runtime-22.1-py3.9\")\n",
        "software_spec_uid\n",
        "'12b83a17-24d8-5082-900f-0ab31fbfd3cb'"
      ],
      "metadata": {
        "id": "UA6AwTcEhusf"
      }
    },
    {
      "cell_type": "code",
      "source": [
        "model_details = client.repository.store_model(model=\"model.tgz\", meta_props={\n",
        "    client.repository.ModelMetaNames.NAME: \"CNN\",\n",
        "    client.repository.ModelMetaNames.TYPE: \"tensorflow_2.7\",\n",
        "    client.repository.ModelMetaNames.SOFTWARE_SPEC_UID: software_spec_uid\n",
        "})\n",
        "\n",
        "model_id = client.repository.get_model_id(model_details)"
      ],
      "metadata": {
        "id": "GGnPC33Uh5Ye"
      },
      "execution_count": null,
      "outputs": []
    },
    {
      "cell_type": "code",
      "source": [
        "model_id"
      ],
      "metadata": {
        "id": "WRXf6arAh8P1"
      },
      "execution_count": null,
      "outputs": []
    },
    {
      "cell_type": "markdown",
      "source": [
        "'c7fd0556-1d58-4698-b9bb-23106e4e6bc5'"
      ],
      "metadata": {
        "id": "BQUI8QP9h_4Q"
      }
    },
    {
      "cell_type": "markdown",
      "source": [
        "Download the deployed model"
      ],
      "metadata": {
        "id": "paiU9DXYiFdx"
      }
    },
    {
      "cell_type": "code",
      "source": [
        "client.repository.download(model_id, \"model.tar.gz\")"
      ],
      "metadata": {
        "id": "ZRs3T4JPiJaQ"
      },
      "execution_count": null,
      "outputs": []
    },
    {
      "cell_type": "markdown",
      "source": [
        "Successfully saved model content to file: 'model.tar.gz'\n",
        "'/home/wsuser/work/model.tar.gz'"
      ],
      "metadata": {
        "id": "m7oUQrvCiLA0"
      }
    }
  ]
}