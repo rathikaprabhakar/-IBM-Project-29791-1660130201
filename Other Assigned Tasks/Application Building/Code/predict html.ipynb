{
  "nbformat": 4,
  "nbformat_minor": 0,
  "metadata": {
    "colab": {
      "provenance": []
    },
    "kernelspec": {
      "name": "python3",
      "display_name": "Python 3"
    },
    "language_info": {
      "name": "python"
    }
  },
  "cells": [
    {
      "cell_type": "code",
      "execution_count": null,
      "metadata": {
        "id": "6ybJ4c-nHq0p"
      },
      "outputs": [],
      "source": [
        "<!DOCTYPE html>\n",
        "<html lang=\"en\">\n",
        "<head>\n",
        "    <meta charset=\"UTF-8\">\n",
        "    <title>Prediction</title>\n",
        "</head>\n",
        "\n",
        "<style>\n",
        "    body{\n",
        "     background-image: url('static/images/bc2.jpg');\n",
        "     background-repeat: no-repeat;\n",
        "     background-size: cover;\n",
        "    }\n",
        "\n",
        "    #rectangle{\n",
        "     width:400px;\n",
        "     height:150px;\n",
        "     background-color: #000000;\n",
        "     border-radius: 15px;\n",
        "     position:absolute;\n",
        "     box-shadow: 0px 0px 10px 5px white;\n",
        "     top:25%;\n",
        "     left:50%;\n",
        "     transform:translate(-50%,-50%);\n",
        "    }\n",
        "\n",
        "    #head{\n",
        "  text-align: center;\n",
        "  font-size: 30px;\n",
        "  margin: 0 auto;\n",
        "  padding: 3% 5%;\n",
        "  font-family: Arial, Helvetica, sans-serif;\n",
        "  color: white;\n",
        "    }\n",
        "\n",
        "    #num{\n",
        "        font-size: 50px;\n",
        "    }\n",
        "\n",
        "</style>\n",
        "\n",
        "<body>\n",
        "    \n",
        "    <div id=\"rectangle\">\n",
        "        <h1 id=\"head\">Predicted Number : <br><center id=\"num\">{{num}}</center></h1>\n",
        "    </div>\n",
        "\n",
        "</body>\n",
        "</html>"
      ]
    }
  ]
}