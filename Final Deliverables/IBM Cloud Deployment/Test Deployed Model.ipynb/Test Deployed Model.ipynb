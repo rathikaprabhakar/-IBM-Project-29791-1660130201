{
  "nbformat": 4,
  "nbformat_minor": 0,
  "metadata": {
    "colab": {
      "provenance": []
    },
    "kernelspec": {
      "name": "python3",
      "display_name": "Python 3"
    },
    "language_info": {
      "name": "python"
    }
  },
  "cells": [
    {
      "cell_type": "markdown",
      "source": [],
      "metadata": {
        "id": "s7QcV6yBcwgn"
      }
    },
    {
      "cell_type": "markdown",
      "source": [
        "Import necessary libraries"
      ],
      "metadata": {
        "id": "Sq6i8rZpcy0w"
      }
    },
    {
      "cell_type": "code",
      "source": [
        "import requests\n",
        "import numpy as np\n",
        "from PIL import Image, ImageOps\n",
        "import matplotlib.pyplot as plt"
      ],
      "metadata": {
        "id": "702-FJF4c1YY"
      },
      "execution_count": null,
      "outputs": []
    },
    {
      "cell_type": "markdown",
      "source": [
        "Input pre-processing"
      ],
      "metadata": {
        "id": "rayDhmXgdHMx"
      }
    },
    {
      "cell_type": "code",
      "source": [
        "img = Image.open(f\"../sample/sample 1.png\").convert(\"L\")\n",
        "img = ImageOps.invert(img)\n",
        "img = img.resize((28, 28))\n",
        "img_arr = np.array(img)\n",
        "img_arr = img_arr / 255.0\n",
        "img_arr = img_arr.reshape(28, 28, 1)\n",
        "\n",
        "img2 = Image.open(f\"../sample/sample 2.png\").convert(\"L\")\n",
        "img2 = ImageOps.invert(img2)\n",
        "img2 = img2.resize((28, 28))\n",
        "img2_arr = np.array(img2)\n",
        "img2_arr = img2_arr / 255.0\n",
        "img2_arr = img2_arr.reshape(28, 28, 1)\n",
        "\n",
        "img3 = Image.open(f\"../sample/sample 3.png\").convert(\"L\")\n",
        "img3 = ImageOps.invert(img3)\n",
        "img3 = img3.resize((28, 28))\n",
        "img3_arr = np.array(img3)\n",
        "img3_arr = img3_arr / 255.0\n",
        "img3_arr = img3_arr.reshape(28, 28, 1)\n"
      ],
      "metadata": {
        "id": "2dWOD8lwdNhZ"
      },
      "execution_count": null,
      "outputs": []
    },
    {
      "cell_type": "markdown",
      "source": [
        "Get results from the deployed model"
      ],
      "metadata": {
        "id": "yCFl8oo1dX5P"
      }
    },
    {
      "cell_type": "code",
      "source": [
        "API_KEY = \"\" \n",
        "\n",
        "token_response = requests.post('https://iam.cloud.ibm.com/identity/token', \n",
        "                               data={\"apikey\": API_KEY, \"grant_type\": 'urn:ibm:params:oauth:grant-type:apikey'})\n",
        "\n",
        "mltoken = token_response.json()[\"access_token\"]\n",
        "\n",
        "header = {'Content-Type': 'application/json', 'Authorization': 'Bearer ' + mltoken}\n",
        "\n",
        "payload_scoring = {\"input_data\": [{\"fields\": [], \"values\": [img_arr.tolist(), img2_arr.tolist(), img3_arr.tolist()]}]}\n",
        "\n",
        "response_scoring = requests.post('https://us-south.ml.cloud.ibm.com/ml/v4/deployments/ae43e79c-1fbc-450a-b0b4-9a54c451033b/predictions?version=2022-11-10', \n",
        "                                 json=payload_scoring, headers={'Authorization': 'Bearer ' + mltoken})"
      ],
      "metadata": {
        "id": "I99oFARadeHB"
      },
      "execution_count": null,
      "outputs": []
    },
    {
      "cell_type": "markdown",
      "source": [
        "Display results"
      ],
      "metadata": {
        "id": "Z4VBojBadi_Q"
      }
    },
    {
      "cell_type": "code",
      "source": [
        "plt.imshow(plt.imread(\"../sample/sample 1.png\"))\n",
        "plt.axis('off')\n",
        "plt.show()\n",
        "print(\"Result: \", response_scoring.json()['predictions'][0]['values'][0][1])"
      ],
      "metadata": {
        "id": "8PLWFf1xdoNB"
      },
      "execution_count": null,
      "outputs": []
    },
    {
      "cell_type": "markdown",
      "source": [
        "![image.png](data:image/png;base64,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)\n",
        "Result:  2"
      ],
      "metadata": {
        "id": "ODLoqmOJdsUF"
      }
    },
    {
      "cell_type": "code",
      "source": [
        "plt.imshow(plt.imread(\"../sample/sample 2.png\"))\n",
        "plt.axis('off')\n",
        "plt.show()\n",
        "print(\"Result: \", response_scoring.json()['predictions'][0]['values'][1][1])"
      ],
      "metadata": {
        "id": "CEvfVaZyd8x8"
      },
      "execution_count": null,
      "outputs": []
    },
    {
      "cell_type": "markdown",
      "source": [
        "![image.png](data:image/png;base64,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)\n",
        "Result:  7"
      ],
      "metadata": {
        "id": "ucReSnYReBEe"
      }
    },
    {
      "cell_type": "code",
      "source": [
        "plt.imshow(plt.imread(\"../sample/sample 3.png\"))\n",
        "plt.axis('off')\n",
        "plt.show()\n",
        "print(\"Result: \", response_scoring.json()['predictions'][0]['values'][2][1])"
      ],
      "metadata": {
        "id": "jNVKRDbmeM1k"
      },
      "execution_count": null,
      "outputs": []
    },
    {
      "cell_type": "markdown",
      "source": [
        "![image.png](data:image/png;base64,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)\n",
        "Result:  8"
      ],
      "metadata": {
        "id": "UohzaTFweQfw"
      }
    }
  ]
}